{
 "cells": [
  {
   "cell_type": "code",
   "execution_count": 3,
   "metadata": {
    "collapsed": false
   },
   "outputs": [],
   "source": [
    "########### Python 2.7 #############\n",
    "import httplib, urllib, base64, json\n",
    "\n"
   ]
  },
  {
   "cell_type": "code",
   "execution_count": 9,
   "metadata": {
    "collapsed": false
   },
   "outputs": [
    {
     "name": "stdout",
     "output_type": "stream",
     "text": [
      "https://api.projectoxford.ai/emotion/v1.0/operations/7489a46a-1f09-4459-862d-76b836f5b052\n"
     ]
    }
   ],
   "source": [
    "headers = {\n",
    "    # Request headers\n",
    "    'Ocp-Apim-Subscription-Key': '2f89fecf003245448c2ab247e00301b6',\n",
    "    'Content-Type': 'application/json'\n",
    "\n",
    "}\n",
    "\n",
    "video_filename = {\"url\":\"http://datacandy.co.uk/clinton.mp4\"}\n",
    "params = urllib.urlencode({})\n",
    "\n",
    "\n",
    "try:\n",
    "    conn = httplib.HTTPSConnection('api.projectoxford.ai')\n",
    "    conn.request(\"POST\", \"/emotion/v1.0/recognizeinvideo?%s\" % params,     json.dumps(video_filename), headers)\n",
    "    response = conn.getresponse()\n",
    "    location = response.getheader('operation-location');\n",
    "    print(location)\n",
    "    conn.close()\n",
    "except Exception as e:\n",
    "    print(\"[Errno {0}] {1}\".format(e.errno, e.strerror))"
   ]
  },
  {
   "cell_type": "code",
   "execution_count": 10,
   "metadata": {
    "collapsed": false,
    "scrolled": false
   },
   "outputs": [
    {
     "name": "stdout",
     "output_type": "stream",
     "text": [
      "{\"status\":\"Succeeded\",\"progress\":100.0,\"createdDateTime\":\"2016-10-10T00:32:06.1976234Z\",\"lastActionDateTime\":\"2016-10-10T00:32:39.9668563Z\",\"processingResult\":\"{\\\"version\\\":1,\\\"timescale\\\":30000,\\\"offset\\\":0,\\\"framerate\\\":29.97,\\\"width\\\":960,\\\"height\\\":540,\\\"fragments\\\":[{\\\"start\\\":0,\\\"duration\\\":60060,\\\"interval\\\":15015,\\\"events\\\":[[{\\\"windowFaceDistribution\\\":{\\\"neutral\\\":1,\\\"happiness\\\":0,\\\"surprise\\\":0,\\\"sadness\\\":0,\\\"anger\\\":0,\\\"disgust\\\":0,\\\"fear\\\":0,\\\"contempt\\\":0},\\\"windowMeanScores\\\":{\\\"neutral\\\":0.57553,\\\"happiness\\\":0.111616,\\\"surprise\\\":0.00732329,\\\"sadness\\\":0.209205,\\\"anger\\\":0.0500474,\\\"disgust\\\":0.0139102,\\\"fear\\\":0.00176085,\\\"contempt\\\":0.0306071}}],[{\\\"windowFaceDistribution\\\":{\\\"neutral\\\":1,\\\"happiness\\\":0,\\\"surprise\\\":0,\\\"sadness\\\":0,\\\"anger\\\":0,\\\"disgust\\\":0,\\\"fear\\\":0,\\\"contempt\\\":0},\\\"windowMeanScores\\\":{\\\"neutral\\\":0.757557,\\\"happiness\\\":0.00886109,\\\"surprise\\\":0.0059222,\\\"sadness\\\":0.149666,\\\"anger\\\":0.0404748,\\\"disgust\\\":0.0102739,\\\"fear\\\":0.00082551,\\\"contempt\\\":0.0264199}}],[{\\\"windowFaceDistribution\\\":{\\\"neutral\\\":1,\\\"happiness\\\":0,\\\"surprise\\\":0,\\\"sadness\\\":0,\\\"anger\\\":0,\\\"disgust\\\":0,\\\"fear\\\":0,\\\"contempt\\\":0},\\\"windowMeanScores\\\":{\\\"neutral\\\":0.852161,\\\"happiness\\\":0.00786093,\\\"surprise\\\":0.034549,\\\"sadness\\\":0.0635121,\\\"anger\\\":0.013214,\\\"disgust\\\":0.0173867,\\\"fear\\\":0.000968616,\\\"contempt\\\":0.0103479}}],[{\\\"windowFaceDistribution\\\":{\\\"neutral\\\":1,\\\"happiness\\\":0,\\\"surprise\\\":0,\\\"sadness\\\":0,\\\"anger\\\":0,\\\"disgust\\\":0,\\\"fear\\\":0,\\\"contempt\\\":0},\\\"windowMeanScores\\\":{\\\"neutral\\\":0.810509,\\\"happiness\\\":0.00941762,\\\"surprise\\\":0.116679,\\\"sadness\\\":0.0365191,\\\"anger\\\":0.0137496,\\\"disgust\\\":0.00709797,\\\"fear\\\":0.000494409,\\\"contempt\\\":0.005534}}]]},{\\\"start\\\":60060,\\\"duration\\\":60060,\\\"interval\\\":15015,\\\"events\\\":[[{\\\"windowFaceDistribution\\\":{\\\"neutral\\\":1,\\\"happiness\\\":0,\\\"surprise\\\":0,\\\"sadness\\\":0,\\\"anger\\\":0,\\\"disgust\\\":0,\\\"fear\\\":0,\\\"contempt\\\":0},\\\"windowMeanScores\\\":{\\\"neutral\\\":0.8143,\\\"happiness\\\":0.00204226,\\\"surprise\\\":0.0125905,\\\"sadness\\\":0.049238,\\\"anger\\\":0.0686777,\\\"disgust\\\":0.0058769,\\\"fear\\\":0.000274388,\\\"contempt\\\":0.0469999}}],[{\\\"windowFaceDistribution\\\":{\\\"neutral\\\":1,\\\"happiness\\\":0,\\\"surprise\\\":0,\\\"sadness\\\":0,\\\"anger\\\":0,\\\"disgust\\\":0,\\\"fear\\\":0,\\\"contempt\\\":0},\\\"windowMeanScores\\\":{\\\"neutral\\\":0.803702,\\\"happiness\\\":0.00271096,\\\"surprise\\\":0.0502949,\\\"sadness\\\":0.0475798,\\\"anger\\\":0.0648253,\\\"disgust\\\":0.0041591,\\\"fear\\\":0.000350772,\\\"contempt\\\":0.0263768}}],[{\\\"windowFaceDistribution\\\":{\\\"neutral\\\":1,\\\"happiness\\\":0,\\\"surprise\\\":0,\\\"sadness\\\":0,\\\"anger\\\":0,\\\"disgust\\\":0,\\\"fear\\\":0,\\\"contempt\\\":0},\\\"windowMeanScores\\\":{\\\"neutral\\\":0.752414,\\\"happiness\\\":0.00988136,\\\"surprise\\\":0.0283937,\\\"sadness\\\":0.0578541,\\\"anger\\\":0.127449,\\\"disgust\\\":0.0101599,\\\"fear\\\":0.00336894,\\\"contempt\\\":0.0104788}}],[{\\\"windowFaceDistribution\\\":{\\\"neutral\\\":1,\\\"happiness\\\":0,\\\"surprise\\\":0,\\\"sadness\\\":0,\\\"anger\\\":0,\\\"disgust\\\":0,\\\"fear\\\":0,\\\"contempt\\\":0},\\\"windowMeanScores\\\":{\\\"neutral\\\":0.580027,\\\"happiness\\\":0.0212655,\\\"surprise\\\":0.106339,\\\"sadness\\\":0.235226,\\\"anger\\\":0.0302543,\\\"disgust\\\":0.0143351,\\\"fear\\\":0.00191322,\\\"contempt\\\":0.0106404}}]]},{\\\"start\\\":120120,\\\"duration\\\":60060,\\\"interval\\\":15015,\\\"events\\\":[[{\\\"windowFaceDistribution\\\":{\\\"neutral\\\":0.5,\\\"happiness\\\":0,\\\"surprise\\\":0,\\\"sadness\\\":0.5,\\\"anger\\\":0,\\\"disgust\\\":0,\\\"fear\\\":0,\\\"contempt\\\":0},\\\"windowMeanScores\\\":{\\\"neutral\\\":0.54936,\\\"happiness\\\":0.0307806,\\\"surprise\\\":0.0565086,\\\"sadness\\\":0.273247,\\\"anger\\\":0.0665888,\\\"disgust\\\":0.011245,\\\"fear\\\":0.000915451,\\\"contempt\\\":0.0113552}}],[{\\\"windowFaceDistribution\\\":{\\\"neutral\\\":0.5,\\\"happiness\\\":0,\\\"surprise\\\":0,\\\"sadness\\\":0.5,\\\"anger\\\":0,\\\"disgust\\\":0,\\\"fear\\\":0,\\\"contempt\\\":0},\\\"windowMeanScores\\\":{\\\"neutral\\\":0.516999,\\\"happiness\\\":0.00256694,\\\"surprise\\\":0.0811615,\\\"sadness\\\":0.342303,\\\"anger\\\":0.0209243,\\\"disgust\\\":0.018446,\\\"fear\\\":0.000355253,\\\"contempt\\\":0.0172437}}],[{\\\"windowFaceDistribution\\\":{\\\"neutral\\\":0.5,\\\"happiness\\\":0,\\\"surprise\\\":0,\\\"sadness\\\":0.5,\\\"anger\\\":0,\\\"disgust\\\":0,\\\"fear\\\":0,\\\"contempt\\\":0},\\\"windowMeanScores\\\":{\\\"neutral\\\":0.489237,\\\"happiness\\\":0.0042445,\\\"surprise\\\":0.117292,\\\"sadness\\\":0.329801,\\\"anger\\\":0.0305579,\\\"disgust\\\":0.013859,\\\"fear\\\":0.000523585,\\\"contempt\\\":0.0144849}}],[{\\\"windowFaceDistribution\\\":{\\\"neutral\\\":0.5,\\\"happiness\\\":0,\\\"surprise\\\":0,\\\"sadness\\\":0.5,\\\"anger\\\":0,\\\"disgust\\\":0,\\\"fear\\\":0,\\\"contempt\\\":0},\\\"windowMeanScores\\\":{\\\"neutral\\\":0.586318,\\\"happiness\\\":0.00105319,\\\"surprise\\\":0.00624048,\\\"sadness\\\":0.362815,\\\"anger\\\":0.015757,\\\"disgust\\\":0.0146098,\\\"fear\\\":0.000186986,\\\"contempt\\\":0.0130191}}]]},{\\\"start\\\":180180,\\\"duration\\\":60060,\\\"interval\\\":15015,\\\"events\\\":[[{\\\"windowFaceDistribution\\\":{\\\"neutral\\\":0.5,\\\"happiness\\\":0,\\\"surprise\\\":0,\\\"sadness\\\":0.5,\\\"anger\\\":0,\\\"disgust\\\":0,\\\"fear\\\":0,\\\"contempt\\\":0},\\\"windowMeanScores\\\":{\\\"neutral\\\":0.551845,\\\"happiness\\\":0.0258728,\\\"surprise\\\":0.0359569,\\\"sadness\\\":0.319226,\\\"anger\\\":0.0365651,\\\"disgust\\\":0.0144037,\\\"fear\\\":0.00110874,\\\"contempt\\\":0.0150225}}],[{\\\"windowFaceDistribution\\\":{\\\"neutral\\\":1,\\\"happiness\\\":0,\\\"surprise\\\":0,\\\"sadness\\\":0,\\\"anger\\\":0,\\\"disgust\\\":0,\\\"fear\\\":0,\\\"contempt\\\":0},\\\"windowMeanScores\\\":{\\\"neutral\\\":0.623639,\\\"happiness\\\":0.00397611,\\\"surprise\\\":0.0616759,\\\"sadness\\\":0.120325,\\\"anger\\\":0.140941,\\\"disgust\\\":0.0132411,\\\"fear\\\":0.0167833,\\\"contempt\\\":0.0194191}}],[{\\\"windowFaceDistribution\\\":{\\\"neutral\\\":0.5,\\\"happiness\\\":0,\\\"surprise\\\":0,\\\"sadness\\\":0.5,\\\"anger\\\":0,\\\"disgust\\\":0,\\\"fear\\\":0,\\\"contempt\\\":0},\\\"windowMeanScores\\\":{\\\"neutral\\\":0.543751,\\\"happiness\\\":0.0374865,\\\"surprise\\\":0.035855,\\\"sadness\\\":0.31725,\\\"anger\\\":0.0410435,\\\"disgust\\\":0.00779806,\\\"fear\\\":0.000258952,\\\"contempt\\\":0.0165569}}],[{\\\"windowFaceDistribution\\\":{\\\"neutral\\\":0.5,\\\"happiness\\\":0,\\\"surprise\\\":0,\\\"sadness\\\":0.5,\\\"anger\\\":0,\\\"disgust\\\":0,\\\"fear\\\":0,\\\"contempt\\\":0},\\\"windowMeanScores\\\":{\\\"neutral\\\":0.398581,\\\"happiness\\\":0.216644,\\\"surprise\\\":0.00494628,\\\"sadness\\\":0.310781,\\\"anger\\\":0.0267925,\\\"disgust\\\":0.0116557,\\\"fear\\\":0.00030625,\\\"contempt\\\":0.0302937}}]]},{\\\"start\\\":240240,\\\"duration\\\":60060,\\\"interval\\\":15015,\\\"events\\\":[[{\\\"windowFaceDistribution\\\":{\\\"neutral\\\":0.5,\\\"happiness\\\":0,\\\"surprise\\\":0,\\\"sadness\\\":0.5,\\\"anger\\\":0,\\\"disgust\\\":0,\\\"fear\\\":0,\\\"contempt\\\":0},\\\"windowMeanScores\\\":{\\\"neutral\\\":0.572743,\\\"happiness\\\":0.0677933,\\\"surprise\\\":0.0320427,\\\"sadness\\\":0.235005,\\\"anger\\\":0.0590176,\\\"disgust\\\":0.0121299,\\\"fear\\\":0.00137144,\\\"contempt\\\":0.0198974}}],[{\\\"windowFaceDistribution\\\":{\\\"neutral\\\":0.5,\\\"happiness\\\":0,\\\"surprise\\\":0,\\\"sadness\\\":0.5,\\\"anger\\\":0,\\\"disgust\\\":0,\\\"fear\\\":0,\\\"contempt\\\":0},\\\"windowMeanScores\\\":{\\\"neutral\\\":0.4912,\\\"happiness\\\":0.126381,\\\"surprise\\\":0.0437936,\\\"sadness\\\":0.267362,\\\"anger\\\":0.0403428,\\\"disgust\\\":0.0105761,\\\"fear\\\":0.00175105,\\\"contempt\\\":0.0185937}}],[{\\\"windowFaceDistribution\\\":{\\\"neutral\\\":0,\\\"happiness\\\":0.5,\\\"surprise\\\":0,\\\"sadness\\\":0.5,\\\"anger\\\":0,\\\"disgust\\\":0,\\\"fear\\\":0,\\\"contempt\\\":0},\\\"windowMeanScores\\\":{\\\"neutral\\\":0.330547,\\\"happiness\\\":0.277683,\\\"surprise\\\":0.0177257,\\\"sadness\\\":0.288061,\\\"anger\\\":0.0358078,\\\"disgust\\\":0.0169198,\\\"fear\\\":0.00179817,\\\"contempt\\\":0.0314581}}],[{\\\"windowFaceDistribution\\\":{\\\"neutral\\\":0.5,\\\"happiness\\\":0,\\\"surprise\\\":0,\\\"sadness\\\":0.5,\\\"anger\\\":0,\\\"disgust\\\":0,\\\"fear\\\":0,\\\"contempt\\\":0},\\\"windowMeanScores\\\":{\\\"neutral\\\":0.49453,\\\"happiness\\\":0.123806,\\\"surprise\\\":0.0245756,\\\"sadness\\\":0.280962,\\\"anger\\\":0.0374084,\\\"disgust\\\":0.0123974,\\\"fear\\\":0.000709458,\\\"contempt\\\":0.0256105}}]]},{\\\"start\\\":300300,\\\"duration\\\":60060,\\\"interval\\\":15015,\\\"events\\\":[[{\\\"windowFaceDistribution\\\":{\\\"neutral\\\":0.5,\\\"happiness\\\":0,\\\"surprise\\\":0,\\\"sadness\\\":0.5,\\\"anger\\\":0,\\\"disgust\\\":0,\\\"fear\\\":0,\\\"contempt\\\":0},\\\"windowMeanScores\\\":{\\\"neutral\\\":0.363254,\\\"happiness\\\":0.218928,\\\"surprise\\\":0.0216415,\\\"sadness\\\":0.322514,\\\"anger\\\":0.034352,\\\"disgust\\\":0.0149899,\\\"fear\\\":0.000472557,\\\"contempt\\\":0.0238476}}],[{\\\"windowFaceDistribution\\\":{\\\"neutral\\\":0.5,\\\"happiness\\\":0,\\\"surprise\\\":0,\\\"sadness\\\":0.5,\\\"anger\\\":0,\\\"disgust\\\":0,\\\"fear\\\":0,\\\"contempt\\\":0},\\\"windowMeanScores\\\":{\\\"neutral\\\":0.445224,\\\"happiness\\\":0.13698,\\\"surprise\\\":0.0359219,\\\"sadness\\\":0.298167,\\\"anger\\\":0.0580329,\\\"disgust\\\":0.00953652,\\\"fear\\\":0.000656745,\\\"contempt\\\":0.0154806}}],[{\\\"windowFaceDistribution\\\":{\\\"neutral\\\":0.5,\\\"happiness\\\":0,\\\"surprise\\\":0,\\\"sadness\\\":0.5,\\\"anger\\\":0,\\\"disgust\\\":0,\\\"fear\\\":0,\\\"contempt\\\":0},\\\"windowMeanScores\\\":{\\\"neutral\\\":0.550579,\\\"happiness\\\":0.0221419,\\\"surprise\\\":0.0336205,\\\"sadness\\\":0.338213,\\\"anger\\\":0.0304386,\\\"disgust\\\":0.00985145,\\\"fear\\\":0.000641345,\\\"contempt\\\":0.014514}}],[{\\\"windowFaceDistribution\\\":{\\\"neutral\\\":0.5,\\\"happiness\\\":0,\\\"surprise\\\":0,\\\"sadness\\\":0.5,\\\"anger\\\":0,\\\"disgust\\\":0,\\\"fear\\\":0,\\\"contempt\\\":0},\\\"windowMeanScores\\\":{\\\"neutral\\\":0.571998,\\\"happiness\\\":0.026784,\\\"surprise\\\":0.0118069,\\\"sadness\\\":0.334237,\\\"anger\\\":0.0317281,\\\"disgust\\\":0.00925141,\\\"fear\\\":0.000440181,\\\"contempt\\\":0.0137545}}]]},{\\\"start\\\":360360,\\\"duration\\\":60060,\\\"interval\\\":15015,\\\"events\\\":[[{\\\"windowFaceDistribution\\\":{\\\"neutral\\\":0.5,\\\"happiness\\\":0,\\\"surprise\\\":0,\\\"sadness\\\":0.5,\\\"anger\\\":0,\\\"disgust\\\":0,\\\"fear\\\":0,\\\"contempt\\\":0},\\\"windowMeanScores\\\":{\\\"neutral\\\":0.440333,\\\"happiness\\\":0.111992,\\\"surprise\\\":0.102097,\\\"sadness\\\":0.282875,\\\"anger\\\":0.0371695,\\\"disgust\\\":0.00856236,\\\"fear\\\":0.00367849,\\\"contempt\\\":0.0132929}}],[{\\\"windowFaceDistribution\\\":{\\\"neutral\\\":0.5,\\\"happiness\\\":0,\\\"surprise\\\":0,\\\"sadness\\\":0.5,\\\"anger\\\":0,\\\"disgust\\\":0,\\\"fear\\\":0,\\\"contempt\\\":0},\\\"windowMeanScores\\\":{\\\"neutral\\\":0.521151,\\\"happiness\\\":0.00766759,\\\"surprise\\\":0.068901,\\\"sadness\\\":0.331114,\\\"anger\\\":0.0473779,\\\"disgust\\\":0.00846861,\\\"fear\\\":0.00119134,\\\"contempt\\\":0.0141291}}],[{\\\"windowFaceDistribution\\\":{\\\"neutral\\\":0.5,\\\"happiness\\\":0,\\\"surprise\\\":0,\\\"sadness\\\":0.5,\\\"anger\\\":0,\\\"disgust\\\":0,\\\"fear\\\":0,\\\"contempt\\\":0},\\\"windowMeanScores\\\":{\\\"neutral\\\":0.442182,\\\"happiness\\\":0.105114,\\\"surprise\\\":0.0188409,\\\"sadness\\\":0.36563,\\\"anger\\\":0.0358292,\\\"disgust\\\":0.0147164,\\\"fear\\\":0.000646067,\\\"contempt\\\":0.017041}}],[{\\\"windowFaceDistribution\\\":{\\\"neutral\\\":0,\\\"happiness\\\":0.5,\\\"surprise\\\":0,\\\"sadness\\\":0.5,\\\"anger\\\":0,\\\"disgust\\\":0,\\\"fear\\\":0,\\\"contempt\\\":0},\\\"windowMeanScores\\\":{\\\"neutral\\\":0.315454,\\\"happiness\\\":0.272524,\\\"surprise\\\":0.0348321,\\\"sadness\\\":0.298689,\\\"anger\\\":0.0407834,\\\"disgust\\\":0.0186871,\\\"fear\\\":0.000801525,\\\"contempt\\\":0.0182298}}]]},{\\\"start\\\":420420,\\\"duration\\\":60060,\\\"interval\\\":15015,\\\"events\\\":[[{\\\"windowFaceDistribution\\\":{\\\"neutral\\\":0.5,\\\"happiness\\\":0.5,\\\"surprise\\\":0,\\\"sadness\\\":0,\\\"anger\\\":0,\\\"disgust\\\":0,\\\"fear\\\":0,\\\"contempt\\\":0},\\\"windowMeanScores\\\":{\\\"neutral\\\":0.349229,\\\"happiness\\\":0.301697,\\\"surprise\\\":0.0318978,\\\"sadness\\\":0.168697,\\\"anger\\\":0.0221193,\\\"disgust\\\":0.0151841,\\\"fear\\\":0.00127431,\\\"contempt\\\":0.109901}}],[{\\\"windowFaceDistribution\\\":{\\\"neutral\\\":0.5,\\\"happiness\\\":0,\\\"surprise\\\":0,\\\"sadness\\\":0,\\\"anger\\\":0,\\\"disgust\\\":0,\\\"fear\\\":0,\\\"contempt\\\":0.5},\\\"windowMeanScores\\\":{\\\"neutral\\\":0.472597,\\\"happiness\\\":0.218613,\\\"surprise\\\":0.00397662,\\\"sadness\\\":0.0827001,\\\"anger\\\":0.00803849,\\\"disgust\\\":0.0165471,\\\"fear\\\":0.000421211,\\\"contempt\\\":0.197106}}],[{\\\"windowFaceDistribution\\\":{\\\"neutral\\\":0,\\\"happiness\\\":1,\\\"surprise\\\":0,\\\"sadness\\\":0,\\\"anger\\\":0,\\\"disgust\\\":0,\\\"fear\\\":0,\\\"contempt\\\":0},\\\"windowMeanScores\\\":{\\\"neutral\\\":0.336495,\\\"happiness\\\":0.438552,\\\"surprise\\\":0.0209227,\\\"sadness\\\":0.08816,\\\"anger\\\":0.00703099,\\\"disgust\\\":0.0183257,\\\"fear\\\":0.000557035,\\\"contempt\\\":0.0899566}}],[{\\\"windowFaceDistribution\\\":{\\\"neutral\\\":0.5,\\\"happiness\\\":0.5,\\\"surprise\\\":0,\\\"sadness\\\":0,\\\"anger\\\":0,\\\"disgust\\\":0,\\\"fear\\\":0,\\\"contempt\\\":0},\\\"windowMeanScores\\\":{\\\"neutral\\\":0.564393,\\\"happiness\\\":0.248074,\\\"surprise\\\":0.00866537,\\\"sadness\\\":0.0864007,\\\"anger\\\":0.00343646,\\\"disgust\\\":0.0113116,\\\"fear\\\":0.000589599,\\\"contempt\\\":0.0771301}}]]},{\\\"start\\\":480480,\\\"duration\\\":60060,\\\"interval\\\":15015,\\\"events\\\":[[{\\\"windowFaceDistribution\\\":{\\\"neutral\\\":0.5,\\\"happiness\\\":0.5,\\\"surprise\\\":0,\\\"sadness\\\":0,\\\"anger\\\":0,\\\"disgust\\\":0,\\\"fear\\\":0,\\\"contempt\\\":0},\\\"windowMeanScores\\\":{\\\"neutral\\\":0.556505,\\\"happiness\\\":0.260128,\\\"surprise\\\":0.00187172,\\\"sadness\\\":0.0757818,\\\"anger\\\":0.000996127,\\\"disgust\\\":0.00379316,\\\"fear\\\":0.000221938,\\\"contempt\\\":0.100702}}],[{\\\"windowFaceDistribution\\\":{\\\"neutral\\\":0.5,\\\"happiness\\\":0.5,\\\"surprise\\\":0,\\\"sadness\\\":0,\\\"anger\\\":0,\\\"disgust\\\":0,\\\"fear\\\":0,\\\"contempt\\\":0},\\\"windowMeanScores\\\":{\\\"neutral\\\":0.594814,\\\"happiness\\\":0.200034,\\\"surprise\\\":0.00892603,\\\"sadness\\\":0.0693076,\\\"anger\\\":0.00409195,\\\"disgust\\\":0.00789015,\\\"fear\\\":0.000261122,\\\"contempt\\\":0.114675}}],[{\\\"windowFaceDistribution\\\":{\\\"neutral\\\":0.5,\\\"happiness\\\":0.5,\\\"surprise\\\":0,\\\"sadness\\\":0,\\\"anger\\\":0,\\\"disgust\\\":0,\\\"fear\\\":0,\\\"contempt\\\":0},\\\"windowMeanScores\\\":{\\\"neutral\\\":0.612621,\\\"happiness\\\":0.213336,\\\"surprise\\\":0.00162343,\\\"sadness\\\":0.056194,\\\"anger\\\":0.00437338,\\\"disgust\\\":0.00946965,\\\"fear\\\":0.000216564,\\\"contempt\\\":0.102166}}],[{\\\"windowFaceDistribution\\\":{\\\"neutral\\\":0.5,\\\"happiness\\\":0.5,\\\"surprise\\\":0,\\\"sadness\\\":0,\\\"anger\\\":0,\\\"disgust\\\":0,\\\"fear\\\":0,\\\"contempt\\\":0},\\\"windowMeanScores\\\":{\\\"neutral\\\":0.572271,\\\"happiness\\\":0.275903,\\\"surprise\\\":0.00116988,\\\"sadness\\\":0.0556327,\\\"anger\\\":0.00334684,\\\"disgust\\\":0.00675086,\\\"fear\\\":0.000337145,\\\"contempt\\\":0.0845882}}]]},{\\\"start\\\":540540,\\\"duration\\\":60060,\\\"interval\\\":15015,\\\"events\\\":[[{\\\"windowFaceDistribution\\\":{\\\"neutral\\\":1,\\\"happiness\\\":0,\\\"surprise\\\":0,\\\"sadness\\\":0,\\\"anger\\\":0,\\\"disgust\\\":0,\\\"fear\\\":0,\\\"contempt\\\":0},\\\"windowMeanScores\\\":{\\\"neutral\\\":0.700732,\\\"happiness\\\":0.22651,\\\"surprise\\\":0.0126877,\\\"sadness\\\":0.0128586,\\\"anger\\\":0.00341963,\\\"disgust\\\":0.00528685,\\\"fear\\\":0.000306582,\\\"contempt\\\":0.0381987}}],[{\\\"windowFaceDistribution\\\":{\\\"neutral\\\":1,\\\"happiness\\\":0,\\\"surprise\\\":0,\\\"sadness\\\":0,\\\"anger\\\":0,\\\"disgust\\\":0,\\\"fear\\\":0,\\\"contempt\\\":0},\\\"windowMeanScores\\\":{\\\"neutral\\\":0.817038,\\\"happiness\\\":0.039936,\\\"surprise\\\":0.0321131,\\\"sadness\\\":0.045026,\\\"anger\\\":0.0163046,\\\"disgust\\\":0.0157943,\\\"fear\\\":0.0023095,\\\"contempt\\\":0.0314782}}],[{\\\"windowFaceDistribution\\\":{\\\"neutral\\\":1,\\\"happiness\\\":0,\\\"surprise\\\":0,\\\"sadness\\\":0,\\\"anger\\\":0,\\\"disgust\\\":0,\\\"fear\\\":0,\\\"contempt\\\":0},\\\"windowMeanScores\\\":{\\\"neutral\\\":0.871922,\\\"happiness\\\":0.0185457,\\\"surprise\\\":0.014163,\\\"sadness\\\":0.0688937,\\\"anger\\\":0.00598696,\\\"disgust\\\":0.00409705,\\\"fear\\\":0.000850621,\\\"contempt\\\":0.015541}}],[{\\\"windowFaceDistribution\\\":{\\\"neutral\\\":1,\\\"happiness\\\":0,\\\"surprise\\\":0,\\\"sadness\\\":0,\\\"anger\\\":0,\\\"disgust\\\":0,\\\"fear\\\":0,\\\"contempt\\\":0},\\\"windowMeanScores\\\":{\\\"neutral\\\":0.809415,\\\"happiness\\\":0.0127204,\\\"surprise\\\":0.00411607,\\\"sadness\\\":0.099473,\\\"anger\\\":0.0375517,\\\"disgust\\\":0.00692682,\\\"fear\\\":0.00131129,\\\"contempt\\\":0.0284853}}]]},{\\\"start\\\":600600,\\\"duration\\\":60060,\\\"interval\\\":15015,\\\"events\\\":[[{\\\"windowFaceDistribution\\\":{\\\"neutral\\\":1,\\\"happiness\\\":0,\\\"surprise\\\":0,\\\"sadness\\\":0,\\\"anger\\\":0,\\\"disgust\\\":0,\\\"fear\\\":0,\\\"contempt\\\":0},\\\"windowMeanScores\\\":{\\\"neutral\\\":0.866717,\\\"happiness\\\":0.000947864,\\\"surprise\\\":0.000506469,\\\"sadness\\\":0.028762,\\\"anger\\\":0.0903648,\\\"disgust\\\":0.00125809,\\\"fear\\\":0.000132783,\\\"contempt\\\":0.0113112}}],[{\\\"windowFaceDistribution\\\":{\\\"neutral\\\":1,\\\"happiness\\\":0,\\\"surprise\\\":0,\\\"sadness\\\":0,\\\"anger\\\":0,\\\"disgust\\\":0,\\\"fear\\\":0,\\\"contempt\\\":0},\\\"windowMeanScores\\\":{\\\"neutral\\\":0.751394,\\\"happiness\\\":0.00721502,\\\"surprise\\\":0.00391458,\\\"sadness\\\":0.068893,\\\"anger\\\":0.156568,\\\"disgust\\\":0.00225854,\\\"fear\\\":0.000444086,\\\"contempt\\\":0.00931287}}],[{\\\"windowFaceDistribution\\\":{\\\"neutral\\\":1,\\\"happiness\\\":0,\\\"surprise\\\":0,\\\"sadness\\\":0,\\\"anger\\\":0,\\\"disgust\\\":0,\\\"fear\\\":0,\\\"contempt\\\":0},\\\"windowMeanScores\\\":{\\\"neutral\\\":0.881525,\\\"happiness\\\":0.0111723,\\\"surprise\\\":0.00510458,\\\"sadness\\\":0.0710926,\\\"anger\\\":0.0103114,\\\"disgust\\\":0.00401685,\\\"fear\\\":0.000500194,\\\"contempt\\\":0.0162776}}],[{\\\"windowFaceDistribution\\\":{\\\"neutral\\\":1,\\\"happiness\\\":0,\\\"surprise\\\":0,\\\"sadness\\\":0,\\\"anger\\\":0,\\\"disgust\\\":0,\\\"fear\\\":0,\\\"contempt\\\":0},\\\"windowMeanScores\\\":{\\\"neutral\\\":0.856511,\\\"happiness\\\":0.00490604,\\\"surprise\\\":0.0100157,\\\"sadness\\\":0.0987883,\\\"anger\\\":0.0143577,\\\"disgust\\\":0.00497339,\\\"fear\\\":0.000593039,\\\"contempt\\\":0.0098549}}]]},{\\\"start\\\":660660,\\\"duration\\\":60060,\\\"interval\\\":15015,\\\"events\\\":[[{\\\"windowFaceDistribution\\\":{\\\"neutral\\\":1,\\\"happiness\\\":0,\\\"surprise\\\":0,\\\"sadness\\\":0,\\\"anger\\\":0,\\\"disgust\\\":0,\\\"fear\\\":0,\\\"contempt\\\":0},\\\"windowMeanScores\\\":{\\\"neutral\\\":0.705879,\\\"happiness\\\":0.000869517,\\\"surprise\\\":0.0049507,\\\"sadness\\\":0.114145,\\\"anger\\\":0.162066,\\\"disgust\\\":0.00337328,\\\"fear\\\":0.00200727,\\\"contempt\\\":0.00671025}}],[{\\\"windowFaceDistribution\\\":{\\\"neutral\\\":1,\\\"happiness\\\":0,\\\"surprise\\\":0,\\\"sadness\\\":0,\\\"anger\\\":0,\\\"disgust\\\":0,\\\"fear\\\":0,\\\"contempt\\\":0},\\\"windowMeanScores\\\":{\\\"neutral\\\":0.68189,\\\"happiness\\\":0.00178692,\\\"surprise\\\":0.00349599,\\\"sadness\\\":0.177079,\\\"anger\\\":0.126443,\\\"disgust\\\":0.00331179,\\\"fear\\\":0.000474386,\\\"contempt\\\":0.00551965}}],[{\\\"windowFaceDistribution\\\":{\\\"neutral\\\":0.5,\\\"happiness\\\":0,\\\"surprise\\\":0,\\\"sadness\\\":0.5,\\\"anger\\\":0,\\\"disgust\\\":0,\\\"fear\\\":0,\\\"contempt\\\":0},\\\"windowMeanScores\\\":{\\\"neutral\\\":0.626227,\\\"happiness\\\":0.0450775,\\\"surprise\\\":0.0028064,\\\"sadness\\\":0.212584,\\\"anger\\\":0.0972482,\\\"disgust\\\":0.00529121,\\\"fear\\\":0.000670781,\\\"contempt\\\":0.0100949}}],[{\\\"windowFaceDistribution\\\":{\\\"neutral\\\":1,\\\"happiness\\\":0,\\\"surprise\\\":0,\\\"sadness\\\":0,\\\"anger\\\":0,\\\"disgust\\\":0,\\\"fear\\\":0,\\\"contempt\\\":0},\\\"windowMeanScores\\\":{\\\"neutral\\\":0.641422,\\\"happiness\\\":0.0558304,\\\"surprise\\\":0.0425196,\\\"sadness\\\":0.152565,\\\"anger\\\":0.097052,\\\"disgust\\\":0.00485623,\\\"fear\\\":0.000639295,\\\"contempt\\\":0.00511582}}]]},{\\\"start\\\":720720,\\\"duration\\\":60060,\\\"interval\\\":15015,\\\"events\\\":[[{\\\"windowFaceDistribution\\\":{\\\"neutral\\\":1,\\\"happiness\\\":0,\\\"surprise\\\":0,\\\"sadness\\\":0,\\\"anger\\\":0,\\\"disgust\\\":0,\\\"fear\\\":0,\\\"contempt\\\":0},\\\"windowMeanScores\\\":{\\\"neutral\\\":0.633649,\\\"happiness\\\":0.0821451,\\\"surprise\\\":0.00778576,\\\"sadness\\\":0.0830683,\\\"anger\\\":0.183637,\\\"disgust\\\":0.00333908,\\\"fear\\\":0.000231774,\\\"contempt\\\":0.00614395}}],[{\\\"windowFaceDistribution\\\":{\\\"neutral\\\":1,\\\"happiness\\\":0,\\\"surprise\\\":0,\\\"sadness\\\":0,\\\"anger\\\":0,\\\"disgust\\\":0,\\\"fear\\\":0,\\\"contempt\\\":0},\\\"windowMeanScores\\\":{\\\"neutral\\\":0.636503,\\\"happiness\\\":0.129624,\\\"surprise\\\":0.00822138,\\\"sadness\\\":0.124423,\\\"anger\\\":0.0829669,\\\"disgust\\\":0.00617554,\\\"fear\\\":0.00104267,\\\"contempt\\\":0.0110437}}],[{\\\"windowFaceDistribution\\\":{\\\"neutral\\\":1,\\\"happiness\\\":0,\\\"surprise\\\":0,\\\"sadness\\\":0,\\\"anger\\\":0,\\\"disgust\\\":0,\\\"fear\\\":0,\\\"contempt\\\":0},\\\"windowMeanScores\\\":{\\\"neutral\\\":0.573796,\\\"happiness\\\":0.098208,\\\"surprise\\\":0.0260803,\\\"sadness\\\":0.0958271,\\\"anger\\\":0.176215,\\\"disgust\\\":0.0085572,\\\"fear\\\":0.0010341,\\\"contempt\\\":0.0202827}}],[{\\\"windowFaceDistribution\\\":{\\\"neutral\\\":1,\\\"happiness\\\":0,\\\"surprise\\\":0,\\\"sadness\\\":0,\\\"anger\\\":0,\\\"disgust\\\":0,\\\"fear\\\":0,\\\"contempt\\\":0},\\\"windowMeanScores\\\":{\\\"neutral\\\":0.535592,\\\"happiness\\\":0.150832,\\\"surprise\\\":0.0147366,\\\"sadness\\\":0.101387,\\\"anger\\\":0.169806,\\\"disgust\\\":0.0107861,\\\"fear\\\":0.00151919,\\\"contempt\\\":0.0153409}}]]},{\\\"start\\\":780780,\\\"duration\\\":60060,\\\"interval\\\":15015,\\\"events\\\":[[{\\\"windowFaceDistribution\\\":{\\\"neutral\\\":1,\\\"happiness\\\":0,\\\"surprise\\\":0,\\\"sadness\\\":0,\\\"anger\\\":0,\\\"disgust\\\":0,\\\"fear\\\":0,\\\"contempt\\\":0},\\\"windowMeanScores\\\":{\\\"neutral\\\":0.683793,\\\"happiness\\\":0.00898567,\\\"surprise\\\":0.00546956,\\\"sadness\\\":0.12988,\\\"anger\\\":0.149086,\\\"disgust\\\":0.00715601,\\\"fear\\\":0.00136692,\\\"contempt\\\":0.0142632}}],[{\\\"windowFaceDistribution\\\":{\\\"neutral\\\":1,\\\"happiness\\\":0,\\\"surprise\\\":0,\\\"sadness\\\":0,\\\"anger\\\":0,\\\"disgust\\\":0,\\\"fear\\\":0,\\\"contempt\\\":0},\\\"windowMeanScores\\\":{\\\"neutral\\\":0.750009,\\\"happiness\\\":0.0452307,\\\"surprise\\\":0.0194446,\\\"sadness\\\":0.0787305,\\\"anger\\\":0.0701033,\\\"disgust\\\":0.00455936,\\\"fear\\\":0.00320319,\\\"contempt\\\":0.0287197}}],[{\\\"windowFaceDistribution\\\":{\\\"neutral\\\":1,\\\"happiness\\\":0,\\\"surprise\\\":0,\\\"sadness\\\":0,\\\"anger\\\":0,\\\"disgust\\\":0,\\\"fear\\\":0,\\\"contempt\\\":0},\\\"windowMeanScores\\\":{\\\"neutral\\\":0.731766,\\\"happiness\\\":0.0186843,\\\"surprise\\\":0.0094039,\\\"sadness\\\":0.161979,\\\"anger\\\":0.0257237,\\\"disgust\\\":0.00610967,\\\"fear\\\":0.00432719,\\\"contempt\\\":0.0420063}}],[{\\\"windowFaceDistribution\\\":{\\\"neutral\\\":1,\\\"happiness\\\":0,\\\"surprise\\\":0,\\\"sadness\\\":0,\\\"anger\\\":0,\\\"disgust\\\":0,\\\"fear\\\":0,\\\"contempt\\\":0},\\\"windowMeanScores\\\":{\\\"neutral\\\":0.573502,\\\"happiness\\\":0.0977846,\\\"surprise\\\":0.0304531,\\\"sadness\\\":0.114516,\\\"anger\\\":0.126273,\\\"disgust\\\":0.0127621,\\\"fear\\\":0.0052195,\\\"contempt\\\":0.0394899}}]]},{\\\"start\\\":840840,\\\"duration\\\":60060,\\\"interval\\\":15015,\\\"events\\\":[[{\\\"windowFaceDistribution\\\":{\\\"neutral\\\":1,\\\"happiness\\\":0,\\\"surprise\\\":0,\\\"sadness\\\":0,\\\"anger\\\":0,\\\"disgust\\\":0,\\\"fear\\\":0,\\\"contempt\\\":0},\\\"windowMeanScores\\\":{\\\"neutral\\\":0.594209,\\\"happiness\\\":0.089987,\\\"surprise\\\":0.018687,\\\"sadness\\\":0.132021,\\\"anger\\\":0.0883983,\\\"disgust\\\":0.0306019,\\\"fear\\\":0.00861914,\\\"contempt\\\":0.0374767}}],[{\\\"windowFaceDistribution\\\":{\\\"neutral\\\":1,\\\"happiness\\\":0,\\\"surprise\\\":0,\\\"sadness\\\":0,\\\"anger\\\":0,\\\"disgust\\\":0,\\\"fear\\\":0,\\\"contempt\\\":0},\\\"windowMeanScores\\\":{\\\"neutral\\\":0.536035,\\\"happiness\\\":0.142733,\\\"surprise\\\":0.0143876,\\\"sadness\\\":0.0954735,\\\"anger\\\":0.157722,\\\"disgust\\\":0.0202008,\\\"fear\\\":0.00511449,\\\"contempt\\\":0.0283336}}],[{\\\"windowFaceDistribution\\\":{\\\"neutral\\\":1,\\\"happiness\\\":0,\\\"surprise\\\":0,\\\"sadness\\\":0,\\\"anger\\\":0,\\\"disgust\\\":0,\\\"fear\\\":0,\\\"contempt\\\":0},\\\"windowMeanScores\\\":{\\\"neutral\\\":0.706741,\\\"happiness\\\":0.0167802,\\\"surprise\\\":0.0192296,\\\"sadness\\\":0.0473113,\\\"anger\\\":0.180635,\\\"disgust\\\":0.0081391,\\\"fear\\\":0.00324604,\\\"contempt\\\":0.0179175}}],[{\\\"windowFaceDistribution\\\":{\\\"neutral\\\":0.5,\\\"happiness\\\":0,\\\"surprise\\\":0,\\\"sadness\\\":0,\\\"anger\\\":0.5,\\\"disgust\\\":0,\\\"fear\\\":0,\\\"contempt\\\":0},\\\"windowMeanScores\\\":{\\\"neutral\\\":0.653042,\\\"happiness\\\":0.0119851,\\\"surprise\\\":0.0252084,\\\"sadness\\\":0.0637012,\\\"anger\\\":0.230846,\\\"disgust\\\":0.00592779,\\\"fear\\\":0.0015542,\\\"contempt\\\":0.00773566}}]]},{\\\"start\\\":900900,\\\"duration\\\":60060,\\\"interval\\\":15015,\\\"events\\\":[[{\\\"windowFaceDistribution\\\":{\\\"neutral\\\":1,\\\"happiness\\\":0,\\\"surprise\\\":0,\\\"sadness\\\":0,\\\"anger\\\":0,\\\"disgust\\\":0,\\\"fear\\\":0,\\\"contempt\\\":0},\\\"windowMeanScores\\\":{\\\"neutral\\\":0.664614,\\\"happiness\\\":0.00231522,\\\"surprise\\\":0.0834877,\\\"sadness\\\":0.123991,\\\"anger\\\":0.115622,\\\"disgust\\\":0.00310499,\\\"fear\\\":0.000944978,\\\"contempt\\\":0.00592061}}],[{\\\"windowFaceDistribution\\\":{\\\"neutral\\\":1,\\\"happiness\\\":0,\\\"surprise\\\":0,\\\"sadness\\\":0,\\\"anger\\\":0,\\\"disgust\\\":0,\\\"fear\\\":0,\\\"contempt\\\":0},\\\"windowMeanScores\\\":{\\\"neutral\\\":0.677955,\\\"happiness\\\":0.0161921,\\\"surprise\\\":0.00866624,\\\"sadness\\\":0.144356,\\\"anger\\\":0.133912,\\\"disgust\\\":0.00686585,\\\"fear\\\":0.00218925,\\\"contempt\\\":0.00986363}}],[{\\\"windowFaceDistribution\\\":{\\\"neutral\\\":0.5,\\\"happiness\\\":0,\\\"surprise\\\":0,\\\"sadness\\\":0.5,\\\"anger\\\":0,\\\"disgust\\\":0,\\\"fear\\\":0,\\\"contempt\\\":0},\\\"windowMeanScores\\\":{\\\"neutral\\\":0.562161,\\\"happiness\\\":0.00427755,\\\"surprise\\\":0.0216972,\\\"sadness\\\":0.210749,\\\"anger\\\":0.17483,\\\"disgust\\\":0.00852727,\\\"fear\\\":0.00451649,\\\"contempt\\\":0.013242}}],[{\\\"windowFaceDistribution\\\":{\\\"neutral\\\":0.5,\\\"happiness\\\":0,\\\"surprise\\\":0,\\\"sadness\\\":0.5,\\\"anger\\\":0,\\\"disgust\\\":0,\\\"fear\\\":0,\\\"contempt\\\":0},\\\"windowMeanScores\\\":{\\\"neutral\\\":0.506174,\\\"happiness\\\":0.0555283,\\\"surprise\\\":0.0130826,\\\"sadness\\\":0.255993,\\\"anger\\\":0.134348,\\\"disgust\\\":0.0114314,\\\"fear\\\":0.0043108,\\\"contempt\\\":0.0191322}}]]},{\\\"start\\\":960960,\\\"duration\\\":35035,\\\"interval\\\":5005,\\\"events\\\":[[{\\\"windowFaceDistribution\\\":{\\\"neutral\\\":0.5,\\\"happiness\\\":0,\\\"surprise\\\":0,\\\"sadness\\\":0.5,\\\"anger\\\":0,\\\"disgust\\\":0,\\\"fear\\\":0,\\\"contempt\\\":0},\\\"windowMeanScores\\\":{\\\"neutral\\\":0.506909,\\\"happiness\\\":0.0514042,\\\"surprise\\\":0.0151771,\\\"sadness\\\":0.268119,\\\"anger\\\":0.125114,\\\"disgust\\\":0.0117035,\\\"fear\\\":0.00255671,\\\"contempt\\\":0.0190157}}],[],[],[{\\\"windowFaceDistribution\\\":{\\\"neutral\\\":0.5,\\\"happiness\\\":0,\\\"surprise\\\":0,\\\"sadness\\\":0.5,\\\"anger\\\":0,\\\"disgust\\\":0,\\\"fear\\\":0,\\\"contempt\\\":0},\\\"windowMeanScores\\\":{\\\"neutral\\\":0.505105,\\\"happiness\\\":0.0487157,\\\"surprise\\\":0.0144256,\\\"sadness\\\":0.243714,\\\"anger\\\":0.158018,\\\"disgust\\\":0.00951901,\\\"fear\\\":0.00328033,\\\"contempt\\\":0.0172229}}],[],[],[{\\\"windowFaceDistribution\\\":{\\\"neutral\\\":0.5,\\\"happiness\\\":0,\\\"surprise\\\":0,\\\"sadness\\\":0,\\\"anger\\\":0.5,\\\"disgust\\\":0,\\\"fear\\\":0,\\\"contempt\\\":0},\\\"windowMeanScores\\\":{\\\"neutral\\\":0.528788,\\\"happiness\\\":0.0016734,\\\"surprise\\\":0.00441035,\\\"sadness\\\":0.251037,\\\"anger\\\":0.193165,\\\"disgust\\\":0.00606829,\\\"fear\\\":0.0032479,\\\"contempt\\\":0.0116105}}]]}]}\\r\\n\"}\n"
     ]
    }
   ],
   "source": [
    "########### Python 2.7 #############\n",
    "import httplib, urllib, base64\n",
    "\n",
    "headers = {\n",
    "    # Request headers\n",
    "    'Ocp-Apim-Subscription-Key': '2f89fecf003245448c2ab247e00301b6',\n",
    "}\n",
    "\n",
    "params = urllib.urlencode({\n",
    "})\n",
    "\n",
    "try:\n",
    "    conn = httplib.HTTPSConnection('api.projectoxford.ai')\n",
    "    conn.request(\"GET\", \"/emotion/v1.0/operations/7489a46a-1f09-4459-862d-76b836f5b052?%s\" % params, \"{body}\", headers)\n",
    "    response = conn.getresponse()\n",
    "    data = response.read()\n",
    "    print(data)\n",
    "    conn.close()\n",
    "except Exception as e:\n",
    "    print(\"[Errno {0}] {1}\".format(e.errno, e.strerror))"
   ]
  },
  {
   "cell_type": "code",
   "execution_count": 16,
   "metadata": {
    "collapsed": false
   },
   "outputs": [
    {
     "data": {
      "text/plain": [
       "1001"
      ]
     },
     "execution_count": 16,
     "metadata": {},
     "output_type": "execute_result"
    }
   ],
   "source": [
    "60060/60\n"
   ]
  },
  {
   "cell_type": "code",
   "execution_count": null,
   "metadata": {
    "collapsed": true
   },
   "outputs": [],
   "source": []
  },
  {
   "cell_type": "code",
   "execution_count": null,
   "metadata": {
    "collapsed": true
   },
   "outputs": [],
   "source": []
  },
  {
   "cell_type": "code",
   "execution_count": null,
   "metadata": {
    "collapsed": true
   },
   "outputs": [],
   "source": []
  },
  {
   "cell_type": "code",
   "execution_count": null,
   "metadata": {
    "collapsed": true
   },
   "outputs": [],
   "source": []
  },
  {
   "cell_type": "code",
   "execution_count": null,
   "metadata": {
    "collapsed": true
   },
   "outputs": [],
   "source": []
  },
  {
   "cell_type": "code",
   "execution_count": null,
   "metadata": {
    "collapsed": true
   },
   "outputs": [],
   "source": []
  },
  {
   "cell_type": "code",
   "execution_count": null,
   "metadata": {
    "collapsed": true
   },
   "outputs": [],
   "source": []
  },
  {
   "cell_type": "code",
   "execution_count": null,
   "metadata": {
    "collapsed": true
   },
   "outputs": [],
   "source": []
  },
  {
   "cell_type": "code",
   "execution_count": null,
   "metadata": {
    "collapsed": true
   },
   "outputs": [],
   "source": []
  },
  {
   "cell_type": "code",
   "execution_count": null,
   "metadata": {
    "collapsed": true
   },
   "outputs": [],
   "source": []
  }
 ],
 "metadata": {
  "kernelspec": {
   "display_name": "Python 2",
   "language": "python",
   "name": "python2"
  },
  "language_info": {
   "codemirror_mode": {
    "name": "ipython",
    "version": 2
   },
   "file_extension": ".py",
   "mimetype": "text/x-python",
   "name": "python",
   "nbconvert_exporter": "python",
   "pygments_lexer": "ipython2",
   "version": "2.7.11"
  }
 },
 "nbformat": 4,
 "nbformat_minor": 0
}
